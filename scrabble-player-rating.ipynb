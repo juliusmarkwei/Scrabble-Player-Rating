{
 "cells": [
  {
   "cell_type": "code",
   "execution_count": 1,
   "id": "6a316e51",
   "metadata": {
    "_cell_guid": "b1076dfc-b9ad-4769-8c92-a6c4dae69d19",
    "_uuid": "8f2839f25d086af736a60e9eeb907d3b93b6e0e5",
    "execution": {
     "iopub.execute_input": "2023-04-10T02:29:10.565031Z",
     "iopub.status.busy": "2023-04-10T02:29:10.564490Z",
     "iopub.status.idle": "2023-04-10T02:29:11.785249Z",
     "shell.execute_reply": "2023-04-10T02:29:11.784092Z"
    },
    "papermill": {
     "duration": 1.230973,
     "end_time": "2023-04-10T02:29:11.787603",
     "exception": false,
     "start_time": "2023-04-10T02:29:10.556630",
     "status": "completed"
    },
    "tags": []
   },
   "outputs": [
    {
     "name": "stdout",
     "output_type": "stream",
     "text": [
      "/kaggle/input/scrabble-player-rating/sample_submission.csv\n",
      "/kaggle/input/scrabble-player-rating/games.csv\n",
      "/kaggle/input/scrabble-player-rating/turns.csv\n",
      "/kaggle/input/scrabble-player-rating/train.csv\n",
      "/kaggle/input/scrabble-player-rating/test.csv\n"
     ]
    }
   ],
   "source": [
    "import numpy as np # linear algebra\n",
    "import pandas as pd # data processing, CSV file I/O (e.g. pd.read_csv)\n",
    "import matplotlib.pyplot as plt\n",
    "import seaborn as sns\n",
    "\n",
    "import os\n",
    "for dirname, _, filenames in os.walk('/kaggle/input'):\n",
    "    for filename in filenames:\n",
    "        print(os.path.join(dirname, filename))\n",
    "        \n",
    "%matplotlib inline"
   ]
  },
  {
   "cell_type": "code",
   "execution_count": 2,
   "id": "5be694bb",
   "metadata": {
    "execution": {
     "iopub.execute_input": "2023-04-10T02:29:11.799461Z",
     "iopub.status.busy": "2023-04-10T02:29:11.799081Z",
     "iopub.status.idle": "2023-04-10T02:29:15.697992Z",
     "shell.execute_reply": "2023-04-10T02:29:15.696118Z"
    },
    "papermill": {
     "duration": 3.907942,
     "end_time": "2023-04-10T02:29:15.700676",
     "exception": false,
     "start_time": "2023-04-10T02:29:11.792734",
     "status": "completed"
    },
    "tags": []
   },
   "outputs": [],
   "source": [
    "# reading all necessary files into the notebook\n",
    "games = pd.read_csv('/kaggle/input/scrabble-player-rating/games.csv')\n",
    "turns = pd.read_csv('/kaggle/input/scrabble-player-rating/turns.csv')\n",
    "train = pd.read_csv('/kaggle/input/scrabble-player-rating/train.csv')\n",
    "test = pd.read_csv('/kaggle/input/scrabble-player-rating/test.csv')"
   ]
  },
  {
   "cell_type": "code",
   "execution_count": 3,
   "id": "92f887b0",
   "metadata": {
    "execution": {
     "iopub.execute_input": "2023-04-10T02:29:15.713159Z",
     "iopub.status.busy": "2023-04-10T02:29:15.712761Z",
     "iopub.status.idle": "2023-04-10T02:29:15.718939Z",
     "shell.execute_reply": "2023-04-10T02:29:15.717498Z"
    },
    "papermill": {
     "duration": 0.016011,
     "end_time": "2023-04-10T02:29:15.721992",
     "exception": false,
     "start_time": "2023-04-10T02:29:15.705981",
     "status": "completed"
    },
    "tags": []
   },
   "outputs": [
    {
     "name": "stdout",
     "output_type": "stream",
     "text": [
      "Shape of game dataframe is: (72773, 12)\n",
      "Shape of turns dataframe is: (2005498, 9)\n",
      "Shape of train dataframe is: (100820, 4)\n",
      "Shape of test dataframe is: (44726, 4)\n"
     ]
    }
   ],
   "source": [
    "print('Shape of game dataframe is:', games.shape)\n",
    "print('Shape of turns dataframe is:', turns.shape)\n",
    "print('Shape of train dataframe is:', train.shape)\n",
    "print('Shape of test dataframe is:', test.shape)"
   ]
  },
  {
   "cell_type": "code",
   "execution_count": 4,
   "id": "8b125394",
   "metadata": {
    "execution": {
     "iopub.execute_input": "2023-04-10T02:29:15.734085Z",
     "iopub.status.busy": "2023-04-10T02:29:15.733706Z",
     "iopub.status.idle": "2023-04-10T02:29:15.762980Z",
     "shell.execute_reply": "2023-04-10T02:29:15.762119Z"
    },
    "papermill": {
     "duration": 0.037664,
     "end_time": "2023-04-10T02:29:15.764902",
     "exception": false,
     "start_time": "2023-04-10T02:29:15.727238",
     "status": "completed"
    },
    "tags": []
   },
   "outputs": [
    {
     "data": {
      "text/html": [
       "<div>\n",
       "<style scoped>\n",
       "    .dataframe tbody tr th:only-of-type {\n",
       "        vertical-align: middle;\n",
       "    }\n",
       "\n",
       "    .dataframe tbody tr th {\n",
       "        vertical-align: top;\n",
       "    }\n",
       "\n",
       "    .dataframe thead th {\n",
       "        text-align: right;\n",
       "    }\n",
       "</style>\n",
       "<table border=\"1\" class=\"dataframe\">\n",
       "  <thead>\n",
       "    <tr style=\"text-align: right;\">\n",
       "      <th></th>\n",
       "      <th>game_id</th>\n",
       "      <th>first</th>\n",
       "      <th>time_control_name</th>\n",
       "      <th>game_end_reason</th>\n",
       "      <th>winner</th>\n",
       "      <th>created_at</th>\n",
       "      <th>lexicon</th>\n",
       "      <th>initial_time_seconds</th>\n",
       "      <th>increment_seconds</th>\n",
       "      <th>rating_mode</th>\n",
       "      <th>max_overtime_minutes</th>\n",
       "      <th>game_duration_seconds</th>\n",
       "    </tr>\n",
       "  </thead>\n",
       "  <tbody>\n",
       "    <tr>\n",
       "      <th>0</th>\n",
       "      <td>1</td>\n",
       "      <td>BetterBot</td>\n",
       "      <td>regular</td>\n",
       "      <td>STANDARD</td>\n",
       "      <td>1</td>\n",
       "      <td>2022-08-26 03:38:49</td>\n",
       "      <td>NWL20</td>\n",
       "      <td>1200</td>\n",
       "      <td>0</td>\n",
       "      <td>CASUAL</td>\n",
       "      <td>1</td>\n",
       "      <td>674.844274</td>\n",
       "    </tr>\n",
       "    <tr>\n",
       "      <th>1</th>\n",
       "      <td>2</td>\n",
       "      <td>Super</td>\n",
       "      <td>regular</td>\n",
       "      <td>STANDARD</td>\n",
       "      <td>1</td>\n",
       "      <td>2022-08-10 19:19:59</td>\n",
       "      <td>CSW21</td>\n",
       "      <td>3600</td>\n",
       "      <td>0</td>\n",
       "      <td>RATED</td>\n",
       "      <td>1</td>\n",
       "      <td>364.214418</td>\n",
       "    </tr>\n",
       "    <tr>\n",
       "      <th>2</th>\n",
       "      <td>3</td>\n",
       "      <td>BetterBot</td>\n",
       "      <td>regular</td>\n",
       "      <td>STANDARD</td>\n",
       "      <td>1</td>\n",
       "      <td>2022-09-04 08:04:27</td>\n",
       "      <td>CSW21</td>\n",
       "      <td>900</td>\n",
       "      <td>0</td>\n",
       "      <td>RATED</td>\n",
       "      <td>5</td>\n",
       "      <td>492.268262</td>\n",
       "    </tr>\n",
       "    <tr>\n",
       "      <th>3</th>\n",
       "      <td>4</td>\n",
       "      <td>BetterBot</td>\n",
       "      <td>regular</td>\n",
       "      <td>RESIGNED</td>\n",
       "      <td>0</td>\n",
       "      <td>2022-09-12 02:36:19</td>\n",
       "      <td>CSW21</td>\n",
       "      <td>3600</td>\n",
       "      <td>0</td>\n",
       "      <td>CASUAL</td>\n",
       "      <td>1</td>\n",
       "      <td>350.861141</td>\n",
       "    </tr>\n",
       "    <tr>\n",
       "      <th>4</th>\n",
       "      <td>5</td>\n",
       "      <td>STEEBot</td>\n",
       "      <td>regular</td>\n",
       "      <td>STANDARD</td>\n",
       "      <td>0</td>\n",
       "      <td>2022-09-06 04:31:36</td>\n",
       "      <td>NWL20</td>\n",
       "      <td>1200</td>\n",
       "      <td>0</td>\n",
       "      <td>CASUAL</td>\n",
       "      <td>1</td>\n",
       "      <td>642.688722</td>\n",
       "    </tr>\n",
       "  </tbody>\n",
       "</table>\n",
       "</div>"
      ],
      "text/plain": [
       "   game_id      first time_control_name game_end_reason  winner  \\\n",
       "0        1  BetterBot           regular        STANDARD       1   \n",
       "1        2      Super           regular        STANDARD       1   \n",
       "2        3  BetterBot           regular        STANDARD       1   \n",
       "3        4  BetterBot           regular        RESIGNED       0   \n",
       "4        5    STEEBot           regular        STANDARD       0   \n",
       "\n",
       "            created_at lexicon  initial_time_seconds  increment_seconds  \\\n",
       "0  2022-08-26 03:38:49   NWL20                  1200                  0   \n",
       "1  2022-08-10 19:19:59   CSW21                  3600                  0   \n",
       "2  2022-09-04 08:04:27   CSW21                   900                  0   \n",
       "3  2022-09-12 02:36:19   CSW21                  3600                  0   \n",
       "4  2022-09-06 04:31:36   NWL20                  1200                  0   \n",
       "\n",
       "  rating_mode  max_overtime_minutes  game_duration_seconds  \n",
       "0      CASUAL                     1             674.844274  \n",
       "1       RATED                     1             364.214418  \n",
       "2       RATED                     5             492.268262  \n",
       "3      CASUAL                     1             350.861141  \n",
       "4      CASUAL                     1             642.688722  "
      ]
     },
     "execution_count": 4,
     "metadata": {},
     "output_type": "execute_result"
    }
   ],
   "source": [
    "games.head()"
   ]
  },
  {
   "cell_type": "code",
   "execution_count": 5,
   "id": "1d5216b8",
   "metadata": {
    "execution": {
     "iopub.execute_input": "2023-04-10T02:29:15.778035Z",
     "iopub.status.busy": "2023-04-10T02:29:15.777067Z",
     "iopub.status.idle": "2023-04-10T02:29:15.819283Z",
     "shell.execute_reply": "2023-04-10T02:29:15.818152Z"
    },
    "papermill": {
     "duration": 0.051313,
     "end_time": "2023-04-10T02:29:15.821678",
     "exception": false,
     "start_time": "2023-04-10T02:29:15.770365",
     "status": "completed"
    },
    "tags": []
   },
   "outputs": [
    {
     "name": "stdout",
     "output_type": "stream",
     "text": [
      "<class 'pandas.core.frame.DataFrame'>\n",
      "RangeIndex: 72773 entries, 0 to 72772\n",
      "Data columns (total 12 columns):\n",
      " #   Column                 Non-Null Count  Dtype  \n",
      "---  ------                 --------------  -----  \n",
      " 0   game_id                72773 non-null  int64  \n",
      " 1   first                  72773 non-null  object \n",
      " 2   time_control_name      72773 non-null  object \n",
      " 3   game_end_reason        72773 non-null  object \n",
      " 4   winner                 72773 non-null  int64  \n",
      " 5   created_at             72773 non-null  object \n",
      " 6   lexicon                72773 non-null  object \n",
      " 7   initial_time_seconds   72773 non-null  int64  \n",
      " 8   increment_seconds      72773 non-null  int64  \n",
      " 9   rating_mode            72773 non-null  object \n",
      " 10  max_overtime_minutes   72773 non-null  int64  \n",
      " 11  game_duration_seconds  72773 non-null  float64\n",
      "dtypes: float64(1), int64(5), object(6)\n",
      "memory usage: 6.7+ MB\n"
     ]
    }
   ],
   "source": [
    "games.info()"
   ]
  },
  {
   "cell_type": "code",
   "execution_count": 6,
   "id": "4511c81d",
   "metadata": {
    "execution": {
     "iopub.execute_input": "2023-04-10T02:29:15.834290Z",
     "iopub.status.busy": "2023-04-10T02:29:15.833911Z",
     "iopub.status.idle": "2023-04-10T02:29:15.848070Z",
     "shell.execute_reply": "2023-04-10T02:29:15.846979Z"
    },
    "papermill": {
     "duration": 0.023096,
     "end_time": "2023-04-10T02:29:15.850298",
     "exception": false,
     "start_time": "2023-04-10T02:29:15.827202",
     "status": "completed"
    },
    "tags": []
   },
   "outputs": [
    {
     "data": {
      "text/html": [
       "<div>\n",
       "<style scoped>\n",
       "    .dataframe tbody tr th:only-of-type {\n",
       "        vertical-align: middle;\n",
       "    }\n",
       "\n",
       "    .dataframe tbody tr th {\n",
       "        vertical-align: top;\n",
       "    }\n",
       "\n",
       "    .dataframe thead th {\n",
       "        text-align: right;\n",
       "    }\n",
       "</style>\n",
       "<table border=\"1\" class=\"dataframe\">\n",
       "  <thead>\n",
       "    <tr style=\"text-align: right;\">\n",
       "      <th></th>\n",
       "      <th>game_id</th>\n",
       "      <th>turn_number</th>\n",
       "      <th>nickname</th>\n",
       "      <th>rack</th>\n",
       "      <th>location</th>\n",
       "      <th>move</th>\n",
       "      <th>points</th>\n",
       "      <th>score</th>\n",
       "      <th>turn_type</th>\n",
       "    </tr>\n",
       "  </thead>\n",
       "  <tbody>\n",
       "    <tr>\n",
       "      <th>0</th>\n",
       "      <td>1</td>\n",
       "      <td>1</td>\n",
       "      <td>BetterBot</td>\n",
       "      <td>DDEGITT</td>\n",
       "      <td>8G</td>\n",
       "      <td>DIG</td>\n",
       "      <td>10</td>\n",
       "      <td>10</td>\n",
       "      <td>Play</td>\n",
       "    </tr>\n",
       "    <tr>\n",
       "      <th>1</th>\n",
       "      <td>1</td>\n",
       "      <td>2</td>\n",
       "      <td>stevy</td>\n",
       "      <td>AEHOPUX</td>\n",
       "      <td>7H</td>\n",
       "      <td>HAP</td>\n",
       "      <td>18</td>\n",
       "      <td>18</td>\n",
       "      <td>Play</td>\n",
       "    </tr>\n",
       "    <tr>\n",
       "      <th>2</th>\n",
       "      <td>1</td>\n",
       "      <td>3</td>\n",
       "      <td>BetterBot</td>\n",
       "      <td>DEELTTU</td>\n",
       "      <td>6I</td>\n",
       "      <td>LUTE</td>\n",
       "      <td>16</td>\n",
       "      <td>26</td>\n",
       "      <td>Play</td>\n",
       "    </tr>\n",
       "    <tr>\n",
       "      <th>3</th>\n",
       "      <td>1</td>\n",
       "      <td>4</td>\n",
       "      <td>stevy</td>\n",
       "      <td>EMORSUX</td>\n",
       "      <td>5K</td>\n",
       "      <td>UM</td>\n",
       "      <td>16</td>\n",
       "      <td>34</td>\n",
       "      <td>Play</td>\n",
       "    </tr>\n",
       "    <tr>\n",
       "      <th>4</th>\n",
       "      <td>1</td>\n",
       "      <td>5</td>\n",
       "      <td>BetterBot</td>\n",
       "      <td>ACDEITU</td>\n",
       "      <td>L5</td>\n",
       "      <td>..DICATE</td>\n",
       "      <td>28</td>\n",
       "      <td>54</td>\n",
       "      <td>Play</td>\n",
       "    </tr>\n",
       "  </tbody>\n",
       "</table>\n",
       "</div>"
      ],
      "text/plain": [
       "   game_id  turn_number   nickname     rack location      move  points  score  \\\n",
       "0        1            1  BetterBot  DDEGITT       8G       DIG      10     10   \n",
       "1        1            2      stevy  AEHOPUX       7H       HAP      18     18   \n",
       "2        1            3  BetterBot  DEELTTU       6I      LUTE      16     26   \n",
       "3        1            4      stevy  EMORSUX       5K        UM      16     34   \n",
       "4        1            5  BetterBot  ACDEITU       L5  ..DICATE      28     54   \n",
       "\n",
       "  turn_type  \n",
       "0      Play  \n",
       "1      Play  \n",
       "2      Play  \n",
       "3      Play  \n",
       "4      Play  "
      ]
     },
     "execution_count": 6,
     "metadata": {},
     "output_type": "execute_result"
    }
   ],
   "source": [
    "turns.head()"
   ]
  },
  {
   "cell_type": "code",
   "execution_count": 7,
   "id": "177fcef9",
   "metadata": {
    "execution": {
     "iopub.execute_input": "2023-04-10T02:29:15.863091Z",
     "iopub.status.busy": "2023-04-10T02:29:15.862643Z",
     "iopub.status.idle": "2023-04-10T02:29:15.879937Z",
     "shell.execute_reply": "2023-04-10T02:29:15.878120Z"
    },
    "papermill": {
     "duration": 0.027183,
     "end_time": "2023-04-10T02:29:15.883044",
     "exception": false,
     "start_time": "2023-04-10T02:29:15.855861",
     "status": "completed"
    },
    "tags": []
   },
   "outputs": [
    {
     "data": {
      "text/plain": [
       "game_id     0\n",
       "nickname    0\n",
       "score       0\n",
       "rating      0\n",
       "dtype: int64"
      ]
     },
     "execution_count": 7,
     "metadata": {},
     "output_type": "execute_result"
    }
   ],
   "source": [
    "train.isna().sum()"
   ]
  },
  {
   "cell_type": "code",
   "execution_count": 8,
   "id": "89bbf6ca",
   "metadata": {
    "execution": {
     "iopub.execute_input": "2023-04-10T02:29:15.897354Z",
     "iopub.status.busy": "2023-04-10T02:29:15.896842Z",
     "iopub.status.idle": "2023-04-10T02:29:15.908050Z",
     "shell.execute_reply": "2023-04-10T02:29:15.906593Z"
    },
    "papermill": {
     "duration": 0.021227,
     "end_time": "2023-04-10T02:29:15.910475",
     "exception": false,
     "start_time": "2023-04-10T02:29:15.889248",
     "status": "completed"
    },
    "tags": []
   },
   "outputs": [
    {
     "data": {
      "text/html": [
       "<div>\n",
       "<style scoped>\n",
       "    .dataframe tbody tr th:only-of-type {\n",
       "        vertical-align: middle;\n",
       "    }\n",
       "\n",
       "    .dataframe tbody tr th {\n",
       "        vertical-align: top;\n",
       "    }\n",
       "\n",
       "    .dataframe thead th {\n",
       "        text-align: right;\n",
       "    }\n",
       "</style>\n",
       "<table border=\"1\" class=\"dataframe\">\n",
       "  <thead>\n",
       "    <tr style=\"text-align: right;\">\n",
       "      <th></th>\n",
       "      <th>game_id</th>\n",
       "      <th>nickname</th>\n",
       "      <th>score</th>\n",
       "      <th>rating</th>\n",
       "    </tr>\n",
       "  </thead>\n",
       "  <tbody>\n",
       "    <tr>\n",
       "      <th>0</th>\n",
       "      <td>1</td>\n",
       "      <td>BetterBot</td>\n",
       "      <td>335</td>\n",
       "      <td>1637</td>\n",
       "    </tr>\n",
       "    <tr>\n",
       "      <th>1</th>\n",
       "      <td>1</td>\n",
       "      <td>stevy</td>\n",
       "      <td>429</td>\n",
       "      <td>1500</td>\n",
       "    </tr>\n",
       "    <tr>\n",
       "      <th>2</th>\n",
       "      <td>3</td>\n",
       "      <td>davidavid</td>\n",
       "      <td>440</td>\n",
       "      <td>1811</td>\n",
       "    </tr>\n",
       "    <tr>\n",
       "      <th>3</th>\n",
       "      <td>3</td>\n",
       "      <td>BetterBot</td>\n",
       "      <td>318</td>\n",
       "      <td>2071</td>\n",
       "    </tr>\n",
       "    <tr>\n",
       "      <th>4</th>\n",
       "      <td>4</td>\n",
       "      <td>Inandoutworker</td>\n",
       "      <td>119</td>\n",
       "      <td>1473</td>\n",
       "    </tr>\n",
       "  </tbody>\n",
       "</table>\n",
       "</div>"
      ],
      "text/plain": [
       "   game_id        nickname  score  rating\n",
       "0        1       BetterBot    335    1637\n",
       "1        1           stevy    429    1500\n",
       "2        3       davidavid    440    1811\n",
       "3        3       BetterBot    318    2071\n",
       "4        4  Inandoutworker    119    1473"
      ]
     },
     "execution_count": 8,
     "metadata": {},
     "output_type": "execute_result"
    }
   ],
   "source": [
    "train.head()"
   ]
  },
  {
   "cell_type": "code",
   "execution_count": 9,
   "id": "b29d9773",
   "metadata": {
    "execution": {
     "iopub.execute_input": "2023-04-10T02:29:15.924187Z",
     "iopub.status.busy": "2023-04-10T02:29:15.923824Z",
     "iopub.status.idle": "2023-04-10T02:29:15.928387Z",
     "shell.execute_reply": "2023-04-10T02:29:15.927342Z"
    },
    "papermill": {
     "duration": 0.013577,
     "end_time": "2023-04-10T02:29:15.930233",
     "exception": false,
     "start_time": "2023-04-10T02:29:15.916656",
     "status": "completed"
    },
    "tags": []
   },
   "outputs": [],
   "source": [
    "bots = ['BetterBot', 'STEEBot', 'HastyBot']"
   ]
  },
  {
   "cell_type": "code",
   "execution_count": 10,
   "id": "59a58e12",
   "metadata": {
    "execution": {
     "iopub.execute_input": "2023-04-10T02:29:15.943946Z",
     "iopub.status.busy": "2023-04-10T02:29:15.943570Z",
     "iopub.status.idle": "2023-04-10T02:29:15.966457Z",
     "shell.execute_reply": "2023-04-10T02:29:15.964840Z"
    },
    "papermill": {
     "duration": 0.03287,
     "end_time": "2023-04-10T02:29:15.969218",
     "exception": false,
     "start_time": "2023-04-10T02:29:15.936348",
     "status": "completed"
    },
    "tags": []
   },
   "outputs": [
    {
     "data": {
      "text/html": [
       "<div>\n",
       "<style scoped>\n",
       "    .dataframe tbody tr th:only-of-type {\n",
       "        vertical-align: middle;\n",
       "    }\n",
       "\n",
       "    .dataframe tbody tr th {\n",
       "        vertical-align: top;\n",
       "    }\n",
       "\n",
       "    .dataframe thead th {\n",
       "        text-align: right;\n",
       "    }\n",
       "</style>\n",
       "<table border=\"1\" class=\"dataframe\">\n",
       "  <thead>\n",
       "    <tr style=\"text-align: right;\">\n",
       "      <th></th>\n",
       "      <th>game_id</th>\n",
       "      <th>user</th>\n",
       "      <th>user_score</th>\n",
       "      <th>user_rating</th>\n",
       "    </tr>\n",
       "  </thead>\n",
       "  <tbody>\n",
       "    <tr>\n",
       "      <th>1</th>\n",
       "      <td>1</td>\n",
       "      <td>stevy</td>\n",
       "      <td>429</td>\n",
       "      <td>1500</td>\n",
       "    </tr>\n",
       "    <tr>\n",
       "      <th>2</th>\n",
       "      <td>3</td>\n",
       "      <td>davidavid</td>\n",
       "      <td>440</td>\n",
       "      <td>1811</td>\n",
       "    </tr>\n",
       "    <tr>\n",
       "      <th>4</th>\n",
       "      <td>4</td>\n",
       "      <td>Inandoutworker</td>\n",
       "      <td>119</td>\n",
       "      <td>1473</td>\n",
       "    </tr>\n",
       "    <tr>\n",
       "      <th>6</th>\n",
       "      <td>5</td>\n",
       "      <td>stevy</td>\n",
       "      <td>325</td>\n",
       "      <td>1500</td>\n",
       "    </tr>\n",
       "    <tr>\n",
       "      <th>8</th>\n",
       "      <td>6</td>\n",
       "      <td>HivinD</td>\n",
       "      <td>378</td>\n",
       "      <td>2029</td>\n",
       "    </tr>\n",
       "  </tbody>\n",
       "</table>\n",
       "</div>"
      ],
      "text/plain": [
       "   game_id            user  user_score  user_rating\n",
       "1        1           stevy         429         1500\n",
       "2        3       davidavid         440         1811\n",
       "4        4  Inandoutworker         119         1473\n",
       "6        5           stevy         325         1500\n",
       "8        6          HivinD         378         2029"
      ]
     },
     "execution_count": 10,
     "metadata": {},
     "output_type": "execute_result"
    }
   ],
   "source": [
    "users_df = train[~train['nickname'].isin(bots)]\n",
    "users_df = users_df.rename(columns={'nickname': 'user', 'score': 'user_score', 'rating': 'user_rating'})\n",
    "users_df.head()"
   ]
  },
  {
   "cell_type": "code",
   "execution_count": 11,
   "id": "4447bb9d",
   "metadata": {
    "execution": {
     "iopub.execute_input": "2023-04-10T02:29:15.982653Z",
     "iopub.status.busy": "2023-04-10T02:29:15.982270Z",
     "iopub.status.idle": "2023-04-10T02:29:16.001201Z",
     "shell.execute_reply": "2023-04-10T02:29:16.000131Z"
    },
    "papermill": {
     "duration": 0.028118,
     "end_time": "2023-04-10T02:29:16.003299",
     "exception": false,
     "start_time": "2023-04-10T02:29:15.975181",
     "status": "completed"
    },
    "tags": []
   },
   "outputs": [
    {
     "data": {
      "text/html": [
       "<div>\n",
       "<style scoped>\n",
       "    .dataframe tbody tr th:only-of-type {\n",
       "        vertical-align: middle;\n",
       "    }\n",
       "\n",
       "    .dataframe tbody tr th {\n",
       "        vertical-align: top;\n",
       "    }\n",
       "\n",
       "    .dataframe thead th {\n",
       "        text-align: right;\n",
       "    }\n",
       "</style>\n",
       "<table border=\"1\" class=\"dataframe\">\n",
       "  <thead>\n",
       "    <tr style=\"text-align: right;\">\n",
       "      <th></th>\n",
       "      <th>game_id</th>\n",
       "      <th>bots</th>\n",
       "      <th>bots_score</th>\n",
       "      <th>bots_rating</th>\n",
       "    </tr>\n",
       "  </thead>\n",
       "  <tbody>\n",
       "    <tr>\n",
       "      <th>0</th>\n",
       "      <td>1</td>\n",
       "      <td>BetterBot</td>\n",
       "      <td>335</td>\n",
       "      <td>1637</td>\n",
       "    </tr>\n",
       "    <tr>\n",
       "      <th>3</th>\n",
       "      <td>3</td>\n",
       "      <td>BetterBot</td>\n",
       "      <td>318</td>\n",
       "      <td>2071</td>\n",
       "    </tr>\n",
       "    <tr>\n",
       "      <th>5</th>\n",
       "      <td>4</td>\n",
       "      <td>BetterBot</td>\n",
       "      <td>478</td>\n",
       "      <td>1936</td>\n",
       "    </tr>\n",
       "    <tr>\n",
       "      <th>7</th>\n",
       "      <td>5</td>\n",
       "      <td>STEEBot</td>\n",
       "      <td>427</td>\n",
       "      <td>1844</td>\n",
       "    </tr>\n",
       "    <tr>\n",
       "      <th>9</th>\n",
       "      <td>6</td>\n",
       "      <td>STEEBot</td>\n",
       "      <td>427</td>\n",
       "      <td>2143</td>\n",
       "    </tr>\n",
       "  </tbody>\n",
       "</table>\n",
       "</div>"
      ],
      "text/plain": [
       "   game_id       bots  bots_score  bots_rating\n",
       "0        1  BetterBot         335         1637\n",
       "3        3  BetterBot         318         2071\n",
       "5        4  BetterBot         478         1936\n",
       "7        5    STEEBot         427         1844\n",
       "9        6    STEEBot         427         2143"
      ]
     },
     "execution_count": 11,
     "metadata": {},
     "output_type": "execute_result"
    }
   ],
   "source": [
    "bots_df = train[train['nickname'].isin(bots)]\n",
    "bots_df = bots_df.rename(columns={'nickname': 'bots', 'score': 'bots_score', 'rating': 'bots_rating'})\n",
    "bots_df.head()"
   ]
  },
  {
   "cell_type": "code",
   "execution_count": 12,
   "id": "f9ed6041",
   "metadata": {
    "execution": {
     "iopub.execute_input": "2023-04-10T02:29:16.017096Z",
     "iopub.status.busy": "2023-04-10T02:29:16.016739Z",
     "iopub.status.idle": "2023-04-10T02:29:16.053417Z",
     "shell.execute_reply": "2023-04-10T02:29:16.051826Z"
    },
    "papermill": {
     "duration": 0.046779,
     "end_time": "2023-04-10T02:29:16.056230",
     "exception": false,
     "start_time": "2023-04-10T02:29:16.009451",
     "status": "completed"
    },
    "tags": []
   },
   "outputs": [
    {
     "data": {
      "text/html": [
       "<div>\n",
       "<style scoped>\n",
       "    .dataframe tbody tr th:only-of-type {\n",
       "        vertical-align: middle;\n",
       "    }\n",
       "\n",
       "    .dataframe tbody tr th {\n",
       "        vertical-align: top;\n",
       "    }\n",
       "\n",
       "    .dataframe thead th {\n",
       "        text-align: right;\n",
       "    }\n",
       "</style>\n",
       "<table border=\"1\" class=\"dataframe\">\n",
       "  <thead>\n",
       "    <tr style=\"text-align: right;\">\n",
       "      <th></th>\n",
       "      <th>game_id</th>\n",
       "      <th>user</th>\n",
       "      <th>user_score</th>\n",
       "      <th>user_rating</th>\n",
       "      <th>bots</th>\n",
       "      <th>bots_score</th>\n",
       "      <th>bots_rating</th>\n",
       "    </tr>\n",
       "  </thead>\n",
       "  <tbody>\n",
       "    <tr>\n",
       "      <th>0</th>\n",
       "      <td>1</td>\n",
       "      <td>stevy</td>\n",
       "      <td>429</td>\n",
       "      <td>1500</td>\n",
       "      <td>BetterBot</td>\n",
       "      <td>335</td>\n",
       "      <td>1637</td>\n",
       "    </tr>\n",
       "    <tr>\n",
       "      <th>1</th>\n",
       "      <td>3</td>\n",
       "      <td>davidavid</td>\n",
       "      <td>440</td>\n",
       "      <td>1811</td>\n",
       "      <td>BetterBot</td>\n",
       "      <td>318</td>\n",
       "      <td>2071</td>\n",
       "    </tr>\n",
       "    <tr>\n",
       "      <th>2</th>\n",
       "      <td>4</td>\n",
       "      <td>Inandoutworker</td>\n",
       "      <td>119</td>\n",
       "      <td>1473</td>\n",
       "      <td>BetterBot</td>\n",
       "      <td>478</td>\n",
       "      <td>1936</td>\n",
       "    </tr>\n",
       "    <tr>\n",
       "      <th>3</th>\n",
       "      <td>5</td>\n",
       "      <td>stevy</td>\n",
       "      <td>325</td>\n",
       "      <td>1500</td>\n",
       "      <td>STEEBot</td>\n",
       "      <td>427</td>\n",
       "      <td>1844</td>\n",
       "    </tr>\n",
       "    <tr>\n",
       "      <th>4</th>\n",
       "      <td>6</td>\n",
       "      <td>HivinD</td>\n",
       "      <td>378</td>\n",
       "      <td>2029</td>\n",
       "      <td>STEEBot</td>\n",
       "      <td>427</td>\n",
       "      <td>2143</td>\n",
       "    </tr>\n",
       "    <tr>\n",
       "      <th>...</th>\n",
       "      <td>...</td>\n",
       "      <td>...</td>\n",
       "      <td>...</td>\n",
       "      <td>...</td>\n",
       "      <td>...</td>\n",
       "      <td>...</td>\n",
       "      <td>...</td>\n",
       "    </tr>\n",
       "    <tr>\n",
       "      <th>50405</th>\n",
       "      <td>72767</td>\n",
       "      <td>HAYDEN</td>\n",
       "      <td>340</td>\n",
       "      <td>1395</td>\n",
       "      <td>BetterBot</td>\n",
       "      <td>414</td>\n",
       "      <td>1952</td>\n",
       "    </tr>\n",
       "    <tr>\n",
       "      <th>50406</th>\n",
       "      <td>72770</td>\n",
       "      <td>samsiah06</td>\n",
       "      <td>97</td>\n",
       "      <td>1332</td>\n",
       "      <td>HastyBot</td>\n",
       "      <td>590</td>\n",
       "      <td>2237</td>\n",
       "    </tr>\n",
       "    <tr>\n",
       "      <th>50407</th>\n",
       "      <td>72771</td>\n",
       "      <td>BB-8</td>\n",
       "      <td>390</td>\n",
       "      <td>1500</td>\n",
       "      <td>HastyBot</td>\n",
       "      <td>393</td>\n",
       "      <td>1614</td>\n",
       "    </tr>\n",
       "    <tr>\n",
       "      <th>50408</th>\n",
       "      <td>72772</td>\n",
       "      <td>Gtowngrad</td>\n",
       "      <td>388</td>\n",
       "      <td>1364</td>\n",
       "      <td>BetterBot</td>\n",
       "      <td>442</td>\n",
       "      <td>1674</td>\n",
       "    </tr>\n",
       "    <tr>\n",
       "      <th>50409</th>\n",
       "      <td>72773</td>\n",
       "      <td>adola</td>\n",
       "      <td>383</td>\n",
       "      <td>2075</td>\n",
       "      <td>HastyBot</td>\n",
       "      <td>346</td>\n",
       "      <td>2302</td>\n",
       "    </tr>\n",
       "  </tbody>\n",
       "</table>\n",
       "<p>50410 rows × 7 columns</p>\n",
       "</div>"
      ],
      "text/plain": [
       "       game_id            user  user_score  user_rating       bots  \\\n",
       "0            1           stevy         429         1500  BetterBot   \n",
       "1            3       davidavid         440         1811  BetterBot   \n",
       "2            4  Inandoutworker         119         1473  BetterBot   \n",
       "3            5           stevy         325         1500    STEEBot   \n",
       "4            6          HivinD         378         2029    STEEBot   \n",
       "...        ...             ...         ...          ...        ...   \n",
       "50405    72767          HAYDEN         340         1395  BetterBot   \n",
       "50406    72770       samsiah06          97         1332   HastyBot   \n",
       "50407    72771            BB-8         390         1500   HastyBot   \n",
       "50408    72772       Gtowngrad         388         1364  BetterBot   \n",
       "50409    72773           adola         383         2075   HastyBot   \n",
       "\n",
       "       bots_score  bots_rating  \n",
       "0             335         1637  \n",
       "1             318         2071  \n",
       "2             478         1936  \n",
       "3             427         1844  \n",
       "4             427         2143  \n",
       "...           ...          ...  \n",
       "50405         414         1952  \n",
       "50406         590         2237  \n",
       "50407         393         1614  \n",
       "50408         442         1674  \n",
       "50409         346         2302  \n",
       "\n",
       "[50410 rows x 7 columns]"
      ]
     },
     "execution_count": 12,
     "metadata": {},
     "output_type": "execute_result"
    }
   ],
   "source": [
    "train_df = pd.merge(users_df, bots_df, on='game_id')\n",
    "train_df"
   ]
  },
  {
   "cell_type": "code",
   "execution_count": 13,
   "id": "12b3e56f",
   "metadata": {
    "execution": {
     "iopub.execute_input": "2023-04-10T02:29:16.071976Z",
     "iopub.status.busy": "2023-04-10T02:29:16.070630Z",
     "iopub.status.idle": "2023-04-10T02:29:16.087450Z",
     "shell.execute_reply": "2023-04-10T02:29:16.086283Z"
    },
    "papermill": {
     "duration": 0.026845,
     "end_time": "2023-04-10T02:29:16.089757",
     "exception": false,
     "start_time": "2023-04-10T02:29:16.062912",
     "status": "completed"
    },
    "tags": []
   },
   "outputs": [
    {
     "name": "stdout",
     "output_type": "stream",
     "text": [
      "<class 'pandas.core.frame.DataFrame'>\n",
      "Int64Index: 50410 entries, 0 to 50409\n",
      "Data columns (total 7 columns):\n",
      " #   Column       Non-Null Count  Dtype \n",
      "---  ------       --------------  ----- \n",
      " 0   game_id      50410 non-null  int64 \n",
      " 1   user         50410 non-null  object\n",
      " 2   user_score   50410 non-null  int64 \n",
      " 3   user_rating  50410 non-null  int64 \n",
      " 4   bots         50410 non-null  object\n",
      " 5   bots_score   50410 non-null  int64 \n",
      " 6   bots_rating  50410 non-null  int64 \n",
      "dtypes: int64(5), object(2)\n",
      "memory usage: 3.1+ MB\n"
     ]
    }
   ],
   "source": [
    "train_df.info()"
   ]
  },
  {
   "cell_type": "code",
   "execution_count": 14,
   "id": "3708881d",
   "metadata": {
    "execution": {
     "iopub.execute_input": "2023-04-10T02:29:16.105473Z",
     "iopub.status.busy": "2023-04-10T02:29:16.104060Z",
     "iopub.status.idle": "2023-04-10T02:29:16.151827Z",
     "shell.execute_reply": "2023-04-10T02:29:16.150593Z"
    },
    "papermill": {
     "duration": 0.057486,
     "end_time": "2023-04-10T02:29:16.153911",
     "exception": false,
     "start_time": "2023-04-10T02:29:16.096425",
     "status": "completed"
    },
    "tags": []
   },
   "outputs": [
    {
     "data": {
      "text/html": [
       "<div>\n",
       "<style scoped>\n",
       "    .dataframe tbody tr th:only-of-type {\n",
       "        vertical-align: middle;\n",
       "    }\n",
       "\n",
       "    .dataframe tbody tr th {\n",
       "        vertical-align: top;\n",
       "    }\n",
       "\n",
       "    .dataframe thead th {\n",
       "        text-align: right;\n",
       "    }\n",
       "</style>\n",
       "<table border=\"1\" class=\"dataframe\">\n",
       "  <thead>\n",
       "    <tr style=\"text-align: right;\">\n",
       "      <th></th>\n",
       "      <th>game_id</th>\n",
       "      <th>user</th>\n",
       "      <th>user_score</th>\n",
       "      <th>user_rating</th>\n",
       "      <th>bots</th>\n",
       "      <th>bots_score</th>\n",
       "      <th>bots_rating</th>\n",
       "    </tr>\n",
       "  </thead>\n",
       "  <tbody>\n",
       "    <tr>\n",
       "      <th>count</th>\n",
       "      <td>50410.000000</td>\n",
       "      <td>50410</td>\n",
       "      <td>50410.000000</td>\n",
       "      <td>50410.000000</td>\n",
       "      <td>50410</td>\n",
       "      <td>50410.000000</td>\n",
       "      <td>50410.000000</td>\n",
       "    </tr>\n",
       "    <tr>\n",
       "      <th>unique</th>\n",
       "      <td>NaN</td>\n",
       "      <td>1028</td>\n",
       "      <td>NaN</td>\n",
       "      <td>NaN</td>\n",
       "      <td>3</td>\n",
       "      <td>NaN</td>\n",
       "      <td>NaN</td>\n",
       "    </tr>\n",
       "    <tr>\n",
       "      <th>top</th>\n",
       "      <td>NaN</td>\n",
       "      <td>BB-8</td>\n",
       "      <td>NaN</td>\n",
       "      <td>NaN</td>\n",
       "      <td>HastyBot</td>\n",
       "      <td>NaN</td>\n",
       "      <td>NaN</td>\n",
       "    </tr>\n",
       "    <tr>\n",
       "      <th>freq</th>\n",
       "      <td>NaN</td>\n",
       "      <td>6576</td>\n",
       "      <td>NaN</td>\n",
       "      <td>NaN</td>\n",
       "      <td>17346</td>\n",
       "      <td>NaN</td>\n",
       "      <td>NaN</td>\n",
       "    </tr>\n",
       "    <tr>\n",
       "      <th>mean</th>\n",
       "      <td>36367.328605</td>\n",
       "      <td>NaN</td>\n",
       "      <td>376.060722</td>\n",
       "      <td>1790.322674</td>\n",
       "      <td>NaN</td>\n",
       "      <td>421.997322</td>\n",
       "      <td>1960.863202</td>\n",
       "    </tr>\n",
       "    <tr>\n",
       "      <th>std</th>\n",
       "      <td>21020.392953</td>\n",
       "      <td>NaN</td>\n",
       "      <td>72.739107</td>\n",
       "      <td>229.662441</td>\n",
       "      <td>NaN</td>\n",
       "      <td>70.423928</td>\n",
       "      <td>200.419697</td>\n",
       "    </tr>\n",
       "    <tr>\n",
       "      <th>min</th>\n",
       "      <td>1.000000</td>\n",
       "      <td>NaN</td>\n",
       "      <td>-64.000000</td>\n",
       "      <td>1033.000000</td>\n",
       "      <td>NaN</td>\n",
       "      <td>162.000000</td>\n",
       "      <td>1349.000000</td>\n",
       "    </tr>\n",
       "    <tr>\n",
       "      <th>25%</th>\n",
       "      <td>18139.750000</td>\n",
       "      <td>NaN</td>\n",
       "      <td>331.000000</td>\n",
       "      <td>1582.000000</td>\n",
       "      <td>NaN</td>\n",
       "      <td>373.000000</td>\n",
       "      <td>1827.000000</td>\n",
       "    </tr>\n",
       "    <tr>\n",
       "      <th>50%</th>\n",
       "      <td>36339.500000</td>\n",
       "      <td>NaN</td>\n",
       "      <td>378.000000</td>\n",
       "      <td>1818.000000</td>\n",
       "      <td>NaN</td>\n",
       "      <td>417.000000</td>\n",
       "      <td>1991.000000</td>\n",
       "    </tr>\n",
       "    <tr>\n",
       "      <th>75%</th>\n",
       "      <td>54624.750000</td>\n",
       "      <td>NaN</td>\n",
       "      <td>423.000000</td>\n",
       "      <td>1982.000000</td>\n",
       "      <td>NaN</td>\n",
       "      <td>465.000000</td>\n",
       "      <td>2124.000000</td>\n",
       "    </tr>\n",
       "    <tr>\n",
       "      <th>max</th>\n",
       "      <td>72773.000000</td>\n",
       "      <td>NaN</td>\n",
       "      <td>707.000000</td>\n",
       "      <td>2510.000000</td>\n",
       "      <td>NaN</td>\n",
       "      <td>1132.000000</td>\n",
       "      <td>2377.000000</td>\n",
       "    </tr>\n",
       "  </tbody>\n",
       "</table>\n",
       "</div>"
      ],
      "text/plain": [
       "             game_id   user    user_score   user_rating      bots  \\\n",
       "count   50410.000000  50410  50410.000000  50410.000000     50410   \n",
       "unique           NaN   1028           NaN           NaN         3   \n",
       "top              NaN   BB-8           NaN           NaN  HastyBot   \n",
       "freq             NaN   6576           NaN           NaN     17346   \n",
       "mean    36367.328605    NaN    376.060722   1790.322674       NaN   \n",
       "std     21020.392953    NaN     72.739107    229.662441       NaN   \n",
       "min         1.000000    NaN    -64.000000   1033.000000       NaN   \n",
       "25%     18139.750000    NaN    331.000000   1582.000000       NaN   \n",
       "50%     36339.500000    NaN    378.000000   1818.000000       NaN   \n",
       "75%     54624.750000    NaN    423.000000   1982.000000       NaN   \n",
       "max     72773.000000    NaN    707.000000   2510.000000       NaN   \n",
       "\n",
       "          bots_score   bots_rating  \n",
       "count   50410.000000  50410.000000  \n",
       "unique           NaN           NaN  \n",
       "top              NaN           NaN  \n",
       "freq             NaN           NaN  \n",
       "mean      421.997322   1960.863202  \n",
       "std        70.423928    200.419697  \n",
       "min       162.000000   1349.000000  \n",
       "25%       373.000000   1827.000000  \n",
       "50%       417.000000   1991.000000  \n",
       "75%       465.000000   2124.000000  \n",
       "max      1132.000000   2377.000000  "
      ]
     },
     "execution_count": 14,
     "metadata": {},
     "output_type": "execute_result"
    }
   ],
   "source": [
    "train_df.describe(include='all')"
   ]
  },
  {
   "cell_type": "code",
   "execution_count": 15,
   "id": "fde0003a",
   "metadata": {
    "execution": {
     "iopub.execute_input": "2023-04-10T02:29:16.169669Z",
     "iopub.status.busy": "2023-04-10T02:29:16.168767Z",
     "iopub.status.idle": "2023-04-10T02:29:16.173971Z",
     "shell.execute_reply": "2023-04-10T02:29:16.172400Z"
    },
    "papermill": {
     "duration": 0.015716,
     "end_time": "2023-04-10T02:29:16.176493",
     "exception": false,
     "start_time": "2023-04-10T02:29:16.160777",
     "status": "completed"
    },
    "tags": []
   },
   "outputs": [],
   "source": [
    "# from sklearn.preprocessing import LabelEncoder"
   ]
  },
  {
   "cell_type": "code",
   "execution_count": 16,
   "id": "d99b0d7d",
   "metadata": {
    "execution": {
     "iopub.execute_input": "2023-04-10T02:29:16.192125Z",
     "iopub.status.busy": "2023-04-10T02:29:16.191712Z",
     "iopub.status.idle": "2023-04-10T02:29:16.197092Z",
     "shell.execute_reply": "2023-04-10T02:29:16.195764Z"
    },
    "papermill": {
     "duration": 0.015751,
     "end_time": "2023-04-10T02:29:16.199342",
     "exception": false,
     "start_time": "2023-04-10T02:29:16.183591",
     "status": "completed"
    },
    "tags": []
   },
   "outputs": [],
   "source": [
    "# lab_encode = LabelEncoder()\n",
    "# train_df['bots'] = lab_encode.fit_transform(train_df['bots'])"
   ]
  },
  {
   "cell_type": "code",
   "execution_count": 17,
   "id": "9421d9ff",
   "metadata": {
    "execution": {
     "iopub.execute_input": "2023-04-10T02:29:16.215468Z",
     "iopub.status.busy": "2023-04-10T02:29:16.214065Z",
     "iopub.status.idle": "2023-04-10T02:29:16.226288Z",
     "shell.execute_reply": "2023-04-10T02:29:16.225195Z"
    },
    "papermill": {
     "duration": 0.022282,
     "end_time": "2023-04-10T02:29:16.228501",
     "exception": false,
     "start_time": "2023-04-10T02:29:16.206219",
     "status": "completed"
    },
    "tags": []
   },
   "outputs": [
    {
     "data": {
      "text/html": [
       "<div>\n",
       "<style scoped>\n",
       "    .dataframe tbody tr th:only-of-type {\n",
       "        vertical-align: middle;\n",
       "    }\n",
       "\n",
       "    .dataframe tbody tr th {\n",
       "        vertical-align: top;\n",
       "    }\n",
       "\n",
       "    .dataframe thead th {\n",
       "        text-align: right;\n",
       "    }\n",
       "</style>\n",
       "<table border=\"1\" class=\"dataframe\">\n",
       "  <thead>\n",
       "    <tr style=\"text-align: right;\">\n",
       "      <th></th>\n",
       "      <th>game_id</th>\n",
       "      <th>user</th>\n",
       "      <th>user_score</th>\n",
       "      <th>user_rating</th>\n",
       "      <th>bots</th>\n",
       "      <th>bots_score</th>\n",
       "      <th>bots_rating</th>\n",
       "    </tr>\n",
       "  </thead>\n",
       "  <tbody>\n",
       "    <tr>\n",
       "      <th>0</th>\n",
       "      <td>1</td>\n",
       "      <td>stevy</td>\n",
       "      <td>429</td>\n",
       "      <td>1500</td>\n",
       "      <td>BetterBot</td>\n",
       "      <td>335</td>\n",
       "      <td>1637</td>\n",
       "    </tr>\n",
       "    <tr>\n",
       "      <th>1</th>\n",
       "      <td>3</td>\n",
       "      <td>davidavid</td>\n",
       "      <td>440</td>\n",
       "      <td>1811</td>\n",
       "      <td>BetterBot</td>\n",
       "      <td>318</td>\n",
       "      <td>2071</td>\n",
       "    </tr>\n",
       "    <tr>\n",
       "      <th>2</th>\n",
       "      <td>4</td>\n",
       "      <td>Inandoutworker</td>\n",
       "      <td>119</td>\n",
       "      <td>1473</td>\n",
       "      <td>BetterBot</td>\n",
       "      <td>478</td>\n",
       "      <td>1936</td>\n",
       "    </tr>\n",
       "    <tr>\n",
       "      <th>3</th>\n",
       "      <td>5</td>\n",
       "      <td>stevy</td>\n",
       "      <td>325</td>\n",
       "      <td>1500</td>\n",
       "      <td>STEEBot</td>\n",
       "      <td>427</td>\n",
       "      <td>1844</td>\n",
       "    </tr>\n",
       "    <tr>\n",
       "      <th>4</th>\n",
       "      <td>6</td>\n",
       "      <td>HivinD</td>\n",
       "      <td>378</td>\n",
       "      <td>2029</td>\n",
       "      <td>STEEBot</td>\n",
       "      <td>427</td>\n",
       "      <td>2143</td>\n",
       "    </tr>\n",
       "  </tbody>\n",
       "</table>\n",
       "</div>"
      ],
      "text/plain": [
       "   game_id            user  user_score  user_rating       bots  bots_score  \\\n",
       "0        1           stevy         429         1500  BetterBot         335   \n",
       "1        3       davidavid         440         1811  BetterBot         318   \n",
       "2        4  Inandoutworker         119         1473  BetterBot         478   \n",
       "3        5           stevy         325         1500    STEEBot         427   \n",
       "4        6          HivinD         378         2029    STEEBot         427   \n",
       "\n",
       "   bots_rating  \n",
       "0         1637  \n",
       "1         2071  \n",
       "2         1936  \n",
       "3         1844  \n",
       "4         2143  "
      ]
     },
     "execution_count": 17,
     "metadata": {},
     "output_type": "execute_result"
    }
   ],
   "source": [
    "train_df.head()"
   ]
  },
  {
   "cell_type": "code",
   "execution_count": 18,
   "id": "ca42386f",
   "metadata": {
    "execution": {
     "iopub.execute_input": "2023-04-10T02:29:16.244670Z",
     "iopub.status.busy": "2023-04-10T02:29:16.243444Z",
     "iopub.status.idle": "2023-04-10T02:29:16.380883Z",
     "shell.execute_reply": "2023-04-10T02:29:16.380033Z"
    },
    "papermill": {
     "duration": 0.147903,
     "end_time": "2023-04-10T02:29:16.383302",
     "exception": false,
     "start_time": "2023-04-10T02:29:16.235399",
     "status": "completed"
    },
    "tags": []
   },
   "outputs": [
    {
     "data": {
      "image/png": "[encoded data removed]",
      "text/plain": [
       "<Figure size 640x480 with 1 Axes>"
      ]
     },
     "metadata": {},
     "output_type": "display_data"
    }
   ],
   "source": [
    "plt.pie(train_df['bots'].value_counts(), autopct='%1.1f%%', startangle=90, shadow=True)\n",
    "plt.title('Frequency on Three Bots from the Dataset')\n",
    "plt.show()"
   ]
  },
  {
   "cell_type": "code",
   "execution_count": 19,
   "id": "10d1e91e",
   "metadata": {
    "execution": {
     "iopub.execute_input": "2023-04-10T02:29:16.404994Z",
     "iopub.status.busy": "2023-04-10T02:29:16.404615Z",
     "iopub.status.idle": "2023-04-10T02:29:16.420392Z",
     "shell.execute_reply": "2023-04-10T02:29:16.419584Z"
    },
    "papermill": {
     "duration": 0.029027,
     "end_time": "2023-04-10T02:29:16.422889",
     "exception": false,
     "start_time": "2023-04-10T02:29:16.393862",
     "status": "completed"
    },
    "tags": []
   },
   "outputs": [
    {
     "data": {
      "text/plain": [
       "BB-8          6576\n",
       "pandorable    1759\n",
       "Goldenlamb    1029\n",
       "HivinD         592\n",
       "kar2008        576\n",
       "              ... \n",
       "sarahrazak       1\n",
       "Anbu             1\n",
       "Anita_H          1\n",
       "OhMel            1\n",
       "kacattac         1\n",
       "Name: user, Length: 1028, dtype: int64"
      ]
     },
     "execution_count": 19,
     "metadata": {},
     "output_type": "execute_result"
    }
   ],
   "source": [
    "# sns.countplot(train_df, x='user')\n",
    "train_df.user.value_counts()"
   ]
  },
  {
   "cell_type": "code",
   "execution_count": 20,
   "id": "60c52e6f",
   "metadata": {
    "execution": {
     "iopub.execute_input": "2023-04-10T02:29:16.444025Z",
     "iopub.status.busy": "2023-04-10T02:29:16.443636Z",
     "iopub.status.idle": "2023-04-10T02:29:16.455250Z",
     "shell.execute_reply": "2023-04-10T02:29:16.454272Z"
    },
    "papermill": {
     "duration": 0.024537,
     "end_time": "2023-04-10T02:29:16.457108",
     "exception": false,
     "start_time": "2023-04-10T02:29:16.432571",
     "status": "completed"
    },
    "tags": []
   },
   "outputs": [
    {
     "data": {
      "text/plain": [
       "18288"
      ]
     },
     "execution_count": 20,
     "metadata": {},
     "output_type": "execute_result"
    }
   ],
   "source": [
    "users_who_won = train_df[train_df['user_score'].values > train_df['bots_score'].values].shape\n",
    "users_who_won[0]"
   ]
  },
  {
   "cell_type": "code",
   "execution_count": null,
   "id": "14bfea66",
   "metadata": {
    "papermill": {
     "duration": 0.007087,
     "end_time": "2023-04-10T02:29:16.471761",
     "exception": false,
     "start_time": "2023-04-10T02:29:16.464674",
     "status": "completed"
    },
    "tags": []
   },
   "outputs": [],
   "source": []
  }
 ],
 "metadata": {
  "kernelspec": {
   "display_name": "Python 3",
   "language": "python",
   "name": "python3"
  },
  "language_info": {
   "codemirror_mode": {
    "name": "ipython",
    "version": 3
   },
   "file_extension": ".py",
   "mimetype": "text/x-python",
   "name": "python",
   "nbconvert_exporter": "python",
   "pygments_lexer": "ipython3",
   "version": "3.7.12"
  },
  "papermill": {
   "default_parameters": {},
   "duration": 16.559158,
   "end_time": "2023-04-10T02:29:17.300818",
   "environment_variables": {},
   "exception": null,
   "input_path": "__notebook__.ipynb",
   "output_path": "__notebook__.ipynb",
   "parameters": {},
   "start_time": "2023-04-10T02:29:00.741660",
   "version": "2.4.0"
  }
 },
 "nbformat": 4,
 "nbformat_minor": 5
}
