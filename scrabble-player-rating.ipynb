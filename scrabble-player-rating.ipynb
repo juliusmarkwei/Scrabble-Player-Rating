{
 "cells": [
  {
   "cell_type": "code",
   "execution_count": 1,
   "id": "b1803d40",
   "metadata": {
    "_cell_guid": "b1076dfc-b9ad-4769-8c92-a6c4dae69d19",
    "_uuid": "8f2839f25d086af736a60e9eeb907d3b93b6e0e5",
    "execution": {
     "iopub.execute_input": "2023-04-04T04:18:53.538668Z",
     "iopub.status.busy": "2023-04-04T04:18:53.537681Z",
     "iopub.status.idle": "2023-04-04T04:18:53.549144Z",
     "shell.execute_reply": "2023-04-04T04:18:53.548238Z"
    },
    "papermill": {
     "duration": 0.017178,
     "end_time": "2023-04-04T04:18:53.551102",
     "exception": false,
     "start_time": "2023-04-04T04:18:53.533924",
     "status": "completed"
    },
    "tags": []
   },
   "outputs": [
    {
     "name": "stdout",
     "output_type": "stream",
     "text": [
      "/kaggle/input/scrabble-player-rating/sample_submission.csv\n",
      "/kaggle/input/scrabble-player-rating/games.csv\n",
      "/kaggle/input/scrabble-player-rating/turns.csv\n",
      "/kaggle/input/scrabble-player-rating/train.csv\n",
      "/kaggle/input/scrabble-player-rating/test.csv\n"
     ]
    }
   ],
   "source": [
    "# This Python 3 environment comes with many helpful analytics libraries installed\n",
    "# It is defined by the kaggle/python Docker image: https://github.com/kaggle/docker-python\n",
    "# For example, here's several helpful packages to load\n",
    "\n",
    "import numpy as np # linear algebra\n",
    "import pandas as pd # data processing, CSV file I/O (e.g. pd.read_csv)\n",
    "\n",
    "# Input data files are available in the read-only \"../input/\" directory\n",
    "# For example, running this (by clicking run or pressing Shift+Enter) will list all files under the input directory\n",
    "\n",
    "import os\n",
    "for dirname, _, filenames in os.walk('/kaggle/input'):\n",
    "    for filename in filenames:\n",
    "        print(os.path.join(dirname, filename))\n",
    "\n",
    "# You can write up to 20GB to the current directory (/kaggle/working/) that gets preserved as output when you create a version using \"Save & Run All\" \n",
    "# You can also write temporary files to /kaggle/temp/, but they won't be saved outside of the current session"
   ]
  },
  {
   "cell_type": "code",
   "execution_count": 2,
   "id": "27af19c6",
   "metadata": {
    "execution": {
     "iopub.execute_input": "2023-04-04T04:18:53.557006Z",
     "iopub.status.busy": "2023-04-04T04:18:53.556020Z",
     "iopub.status.idle": "2023-04-04T04:18:53.774066Z",
     "shell.execute_reply": "2023-04-04T04:18:53.772694Z"
    },
    "papermill": {
     "duration": 0.223686,
     "end_time": "2023-04-04T04:18:53.776690",
     "exception": false,
     "start_time": "2023-04-04T04:18:53.553004",
     "status": "completed"
    },
    "tags": []
   },
   "outputs": [],
   "source": [
    "games_descriptions = pd.read_csv('/kaggle/input/scrabble-player-rating/games.csv', index_col='game_id')"
   ]
  },
  {
   "cell_type": "code",
   "execution_count": 3,
   "id": "da4bf9df",
   "metadata": {
    "execution": {
     "iopub.execute_input": "2023-04-04T04:18:53.782558Z",
     "iopub.status.busy": "2023-04-04T04:18:53.782146Z",
     "iopub.status.idle": "2023-04-04T04:18:53.807022Z",
     "shell.execute_reply": "2023-04-04T04:18:53.806278Z"
    },
    "papermill": {
     "duration": 0.03028,
     "end_time": "2023-04-04T04:18:53.808851",
     "exception": false,
     "start_time": "2023-04-04T04:18:53.778571",
     "status": "completed"
    },
    "tags": []
   },
   "outputs": [
    {
     "data": {
      "text/html": [
       "<div>\n",
       "<style scoped>\n",
       "    .dataframe tbody tr th:only-of-type {\n",
       "        vertical-align: middle;\n",
       "    }\n",
       "\n",
       "    .dataframe tbody tr th {\n",
       "        vertical-align: top;\n",
       "    }\n",
       "\n",
       "    .dataframe thead th {\n",
       "        text-align: right;\n",
       "    }\n",
       "</style>\n",
       "<table border=\"1\" class=\"dataframe\">\n",
       "  <thead>\n",
       "    <tr style=\"text-align: right;\">\n",
       "      <th></th>\n",
       "      <th>first</th>\n",
       "      <th>time_control_name</th>\n",
       "      <th>game_end_reason</th>\n",
       "      <th>winner</th>\n",
       "      <th>created_at</th>\n",
       "      <th>lexicon</th>\n",
       "      <th>initial_time_seconds</th>\n",
       "      <th>increment_seconds</th>\n",
       "      <th>rating_mode</th>\n",
       "      <th>max_overtime_minutes</th>\n",
       "      <th>game_duration_seconds</th>\n",
       "    </tr>\n",
       "    <tr>\n",
       "      <th>game_id</th>\n",
       "      <th></th>\n",
       "      <th></th>\n",
       "      <th></th>\n",
       "      <th></th>\n",
       "      <th></th>\n",
       "      <th></th>\n",
       "      <th></th>\n",
       "      <th></th>\n",
       "      <th></th>\n",
       "      <th></th>\n",
       "      <th></th>\n",
       "    </tr>\n",
       "  </thead>\n",
       "  <tbody>\n",
       "    <tr>\n",
       "      <th>1</th>\n",
       "      <td>BetterBot</td>\n",
       "      <td>regular</td>\n",
       "      <td>STANDARD</td>\n",
       "      <td>1</td>\n",
       "      <td>2022-08-26 03:38:49</td>\n",
       "      <td>NWL20</td>\n",
       "      <td>1200</td>\n",
       "      <td>0</td>\n",
       "      <td>CASUAL</td>\n",
       "      <td>1</td>\n",
       "      <td>674.844274</td>\n",
       "    </tr>\n",
       "    <tr>\n",
       "      <th>2</th>\n",
       "      <td>Super</td>\n",
       "      <td>regular</td>\n",
       "      <td>STANDARD</td>\n",
       "      <td>1</td>\n",
       "      <td>2022-08-10 19:19:59</td>\n",
       "      <td>CSW21</td>\n",
       "      <td>3600</td>\n",
       "      <td>0</td>\n",
       "      <td>RATED</td>\n",
       "      <td>1</td>\n",
       "      <td>364.214418</td>\n",
       "    </tr>\n",
       "    <tr>\n",
       "      <th>3</th>\n",
       "      <td>BetterBot</td>\n",
       "      <td>regular</td>\n",
       "      <td>STANDARD</td>\n",
       "      <td>1</td>\n",
       "      <td>2022-09-04 08:04:27</td>\n",
       "      <td>CSW21</td>\n",
       "      <td>900</td>\n",
       "      <td>0</td>\n",
       "      <td>RATED</td>\n",
       "      <td>5</td>\n",
       "      <td>492.268262</td>\n",
       "    </tr>\n",
       "    <tr>\n",
       "      <th>4</th>\n",
       "      <td>BetterBot</td>\n",
       "      <td>regular</td>\n",
       "      <td>RESIGNED</td>\n",
       "      <td>0</td>\n",
       "      <td>2022-09-12 02:36:19</td>\n",
       "      <td>CSW21</td>\n",
       "      <td>3600</td>\n",
       "      <td>0</td>\n",
       "      <td>CASUAL</td>\n",
       "      <td>1</td>\n",
       "      <td>350.861141</td>\n",
       "    </tr>\n",
       "    <tr>\n",
       "      <th>5</th>\n",
       "      <td>STEEBot</td>\n",
       "      <td>regular</td>\n",
       "      <td>STANDARD</td>\n",
       "      <td>0</td>\n",
       "      <td>2022-09-06 04:31:36</td>\n",
       "      <td>NWL20</td>\n",
       "      <td>1200</td>\n",
       "      <td>0</td>\n",
       "      <td>CASUAL</td>\n",
       "      <td>1</td>\n",
       "      <td>642.688722</td>\n",
       "    </tr>\n",
       "  </tbody>\n",
       "</table>\n",
       "</div>"
      ],
      "text/plain": [
       "             first time_control_name game_end_reason  winner  \\\n",
       "game_id                                                        \n",
       "1        BetterBot           regular        STANDARD       1   \n",
       "2            Super           regular        STANDARD       1   \n",
       "3        BetterBot           regular        STANDARD       1   \n",
       "4        BetterBot           regular        RESIGNED       0   \n",
       "5          STEEBot           regular        STANDARD       0   \n",
       "\n",
       "                  created_at lexicon  initial_time_seconds  increment_seconds  \\\n",
       "game_id                                                                         \n",
       "1        2022-08-26 03:38:49   NWL20                  1200                  0   \n",
       "2        2022-08-10 19:19:59   CSW21                  3600                  0   \n",
       "3        2022-09-04 08:04:27   CSW21                   900                  0   \n",
       "4        2022-09-12 02:36:19   CSW21                  3600                  0   \n",
       "5        2022-09-06 04:31:36   NWL20                  1200                  0   \n",
       "\n",
       "        rating_mode  max_overtime_minutes  game_duration_seconds  \n",
       "game_id                                                           \n",
       "1            CASUAL                     1             674.844274  \n",
       "2             RATED                     1             364.214418  \n",
       "3             RATED                     5             492.268262  \n",
       "4            CASUAL                     1             350.861141  \n",
       "5            CASUAL                     1             642.688722  "
      ]
     },
     "execution_count": 3,
     "metadata": {},
     "output_type": "execute_result"
    }
   ],
   "source": [
    "games_descriptions.head()"
   ]
  }
 ],
 "metadata": {
  "kernelspec": {
   "display_name": "Python 3",
   "language": "python",
   "name": "python3"
  },
  "language_info": {
   "codemirror_mode": {
    "name": "ipython",
    "version": 3
   },
   "file_extension": ".py",
   "mimetype": "text/x-python",
   "name": "python",
   "nbconvert_exporter": "python",
   "pygments_lexer": "ipython3",
   "version": "3.7.12"
  },
  "papermill": {
   "default_parameters": {},
   "duration": 9.737209,
   "end_time": "2023-04-04T04:18:54.430959",
   "environment_variables": {},
   "exception": null,
   "input_path": "__notebook__.ipynb",
   "output_path": "__notebook__.ipynb",
   "parameters": {},
   "start_time": "2023-04-04T04:18:44.693750",
   "version": "2.4.0"
  }
 },
 "nbformat": 4,
 "nbformat_minor": 5
}
